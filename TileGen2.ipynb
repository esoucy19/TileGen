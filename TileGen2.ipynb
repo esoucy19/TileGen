{
 "cells": [
  {
   "cell_type": "code",
   "execution_count": 19,
   "metadata": {},
   "outputs": [
    {
     "name": "stdout",
     "output_type": "stream",
     "text": [
      "[(1, 0), (0, 1), (-1, 0), (0, -1), (-1, 0), (0, 1)]\n",
      "[(0, 0), (1, 0), (1, 1), (0, 1), (0, 0), (-1, 0), (-1, 1)]\n"
     ]
    },
    {
     "data": {
      "text/plain": [
       "False"
      ]
     },
     "execution_count": 19,
     "metadata": {},
     "output_type": "execute_result"
    }
   ],
   "source": [
    "t = {'0': (1,0), '1': (0,1), '2': (-1,0), '3': (0,-1)}\n",
    "\n",
    "def generer_mots(taille, suffixe = ''):\n",
    "    motsValides = []\n",
    "    for l in ('0', '1', '2', '3'):\n",
    "        if not suffixe == '' and not l == a[-1]:\n",
    "            mot = suffixe + l\n",
    "            if mot_valide(mot):\n",
    "                if len(mot) == taille:\n",
    "                    motsValides.append(mot)\n",
    "                else:\n",
    "                    motsValides = motsValides + generer_mots(mot, taille)\n",
    "    return motsValides\n",
    "\n",
    "\n",
    "def mot_valide(w):\n",
    "    pass\n",
    "\n",
    "\n",
    "def w_vers_lt(w):\n",
    "    return list(map(l_vers_t, w))\n",
    "\n",
    "\n",
    "def l_vers_t(l, t = t):\n",
    "    return t[l]\n",
    "\n",
    "\n",
    "def lt_vers_lp(lt):\n",
    "    lp = [(0,0),]\n",
    "    for i,t in enumerate(lt):\n",
    "        lp.append((lp[i][0] + t[0], lp[i][1] + t[1]))\n",
    "    return lp\n",
    "\n",
    "lt1 = w_vers_lt('012321')\n",
    "lp1 = lt_vers_lp(lt1)\n",
    "print(lt1)\n",
    "print(lp1)\n",
    "len(lp1) == len(set(lp1))"
   ]
  },
  {
   "cell_type": "code",
   "execution_count": null,
   "metadata": {},
   "outputs": [],
   "source": []
  }
 ],
 "metadata": {
  "kernelspec": {
   "display_name": "Python 3",
   "language": "python",
   "name": "python3"
  },
  "language_info": {
   "codemirror_mode": {
    "name": "ipython",
    "version": 3
   },
   "file_extension": ".py",
   "mimetype": "text/x-python",
   "name": "python",
   "nbconvert_exporter": "python",
   "pygments_lexer": "ipython3",
   "version": "3.7.4"
  }
 },
 "nbformat": 4,
 "nbformat_minor": 2
}
